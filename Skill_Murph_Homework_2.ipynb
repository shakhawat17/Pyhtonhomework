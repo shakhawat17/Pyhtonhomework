{
  "nbformat": 4,
  "nbformat_minor": 0,
  "metadata": {
    "colab": {
      "provenance": [],
      "toc_visible": true,
      "authorship_tag": "ABX9TyMxfdUGSShiyvkOizZ2H5Qc",
      "include_colab_link": true
    },
    "kernelspec": {
      "name": "python3",
      "display_name": "Python 3"
    },
    "language_info": {
      "name": "python"
    }
  },
  "cells": [
    {
      "cell_type": "markdown",
      "metadata": {
        "id": "view-in-github",
        "colab_type": "text"
      },
      "source": [
        "<a href=\"https://colab.research.google.com/github/shakhawat17/Pyhtonhomework/blob/main/Skill_Murph_Homework_2.ipynb\" target=\"_parent\"><img src=\"https://colab.research.google.com/assets/colab-badge.svg\" alt=\"Open In Colab\"/></a>"
      ]
    },
    {
      "cell_type": "markdown",
      "source": [
        "# **Homework Content**"
      ],
      "metadata": {
        "id": "OS43UpOEXvPo"
      }
    },
    {
      "cell_type": "markdown",
      "source": [
        "# **Serial**"
      ],
      "metadata": {
        "id": "mimrqa1zjwku"
      }
    },
    {
      "cell_type": "markdown",
      "source": [
        "# 2.1 : Create variables for your name, age, and favorite color, then print them with descriptive labels."
      ],
      "metadata": {
        "id": "1IwToq9dkTT6"
      }
    },
    {
      "cell_type": "code",
      "source": [
        "name = \"Shakhawat\"\n",
        "age = 30\n",
        "color = \"White\"\n",
        "print(\"Name:\", name)\n",
        "print(\"Age:\", age)\n",
        "print(\"Favourite Color:\", color)\n"
      ],
      "metadata": {
        "colab": {
          "base_uri": "https://localhost:8080/"
        },
        "id": "R5uPuyr1qECo",
        "outputId": "8525670d-33b3-4e33-ae45-927010ac3652"
      },
      "execution_count": null,
      "outputs": [
        {
          "output_type": "stream",
          "name": "stdout",
          "text": [
            "Name: Shakhawat\n",
            "Age: 30\n",
            "Favourite Color: White\n"
          ]
        }
      ]
    },
    {
      "cell_type": "code",
      "source": [
        "name = input (\"Please enter your name -\")\n",
        "age = input (\"Please enter your age -\")\n",
        "color = input (\"Please enter your color -\")\n",
        "print(f\"Hello, {name}! Thank you for the info.Welcome to Skill Murph\")\n",
        "print(f\"Please confirm the information. Your age is {age} and your favourite color is {color}\")\n"
      ],
      "metadata": {
        "colab": {
          "base_uri": "https://localhost:8080/"
        },
        "id": "TAQ6oNkikfrZ",
        "outputId": "7d912dc0-0812-424c-c1c2-749d37d844be"
      },
      "execution_count": null,
      "outputs": [
        {
          "output_type": "stream",
          "name": "stdout",
          "text": [
            "Please enter your name -Shakhawat\n",
            "Please enter your age -30\n",
            "Please enter your color -White\n",
            "Hello, Shakhawat! Thank you for the info.Welcome to Skill Murph\n",
            "Please confirm the information. Your age is 30 and your favourite color is White\n"
          ]
        }
      ]
    },
    {
      "cell_type": "markdown",
      "source": [
        "# 2.2 : Create one variable of each type and use the type() function to verify its type."
      ],
      "metadata": {
        "id": "Rk0dNzfvrjnk"
      }
    },
    {
      "cell_type": "code",
      "source": [
        "name = \"Shakhawat\"\n",
        "subject = \"Math\"\n",
        "roll = 10\n",
        "score = 92.5\n",
        "mark_a = True\n",
        "mark_b = False\n",
        "print(type(name))\n",
        "print(type(subject))\n",
        "print(type(roll))\n",
        "print(type(score))\n",
        "print(type(mark_a))\n",
        "\n",
        "\n"
      ],
      "metadata": {
        "colab": {
          "base_uri": "https://localhost:8080/"
        },
        "id": "UG2Zfh-6sAA-",
        "outputId": "2ac3a167-d93c-4e31-b07a-0d24a9fa77a8"
      },
      "execution_count": null,
      "outputs": [
        {
          "output_type": "stream",
          "name": "stdout",
          "text": [
            "<class 'str'>\n",
            "<class 'str'>\n",
            "<class 'int'>\n",
            "<class 'float'>\n",
            "<class 'bool'>\n"
          ]
        }
      ]
    },
    {
      "cell_type": "code",
      "source": [
        "name = input(\"Enter your name\")\n",
        "\n",
        "roll = int(input(\"Enter your roll number \"))\n",
        "\n",
        "score = float(input(\"Enter your mark \"))\n",
        "\n",
        "subject = input(\"Enter your subject name  \")\n",
        "\n",
        "is_a_star = True\n",
        "\n",
        "print(type(name))\n",
        "print(type(subject))\n",
        "print(type(roll))\n",
        "print(type(score))\n",
        "print(type(is_a_star))\n"
      ],
      "metadata": {
        "colab": {
          "base_uri": "https://localhost:8080/"
        },
        "id": "ObSH6CdT0QMt",
        "outputId": "880eb980-ca02-4533-b2ab-407fa58a631b"
      },
      "execution_count": null,
      "outputs": [
        {
          "output_type": "stream",
          "name": "stdout",
          "text": [
            "Enter your nameSHakhawat\n",
            "Enter your roll number 10\n",
            "Enter your mark 92.5\n",
            "Enter your subject name  Math\n",
            "<class 'str'>\n",
            "<class 'str'>\n",
            "<class 'int'>\n",
            "<class 'float'>\n",
            "<class 'bool'>\n"
          ]
        }
      ]
    },
    {
      "cell_type": "markdown",
      "source": [
        "# 2.3 : Calculate the area and perimeter of a rectangle with length 7 and width 5."
      ],
      "metadata": {
        "id": "K_dDLT3E5dXL"
      }
    },
    {
      "cell_type": "code",
      "source": [
        "length = 7\n",
        "width = 5\n",
        "area = length * width\n",
        "print(area)\n",
        "perimeter = 2 * (length + width)\n",
        "print(perimeter)\n"
      ],
      "metadata": {
        "colab": {
          "base_uri": "https://localhost:8080/"
        },
        "id": "5QR05EkK5kNw",
        "outputId": "435539d4-ddd8-4b9a-900d-dd6330f20abe"
      },
      "execution_count": null,
      "outputs": [
        {
          "output_type": "stream",
          "name": "stdout",
          "text": [
            "35\n",
            "24\n"
          ]
        }
      ]
    },
    {
      "cell_type": "markdown",
      "source": [
        "# 2.4 : Create a list of 5 Bangladeshi foods, then access the first and last elements."
      ],
      "metadata": {
        "id": "6i7xqL6e86JP"
      }
    },
    {
      "cell_type": "code",
      "source": [
        "food = [\"Kala Bhuna\", \"Biryani\",\"Bhorta\",\"Kalai Ruti\",\"Bakhorkhani\"]\n",
        "print(food[0])\n",
        "print(food[4])\n"
      ],
      "metadata": {
        "colab": {
          "base_uri": "https://localhost:8080/"
        },
        "id": "2C72_5bj9BK4",
        "outputId": "403e8446-434d-4025-edd9-7947626ab639"
      },
      "execution_count": null,
      "outputs": [
        {
          "output_type": "stream",
          "name": "stdout",
          "text": [
            "Kala Bhuna\n",
            "Bakhorkhani\n"
          ]
        }
      ]
    },
    {
      "cell_type": "markdown",
      "source": [
        "# 2.5 : Create a list of 5 numbers, add a new number, remove one, and then sort the list."
      ],
      "metadata": {
        "id": "cfhG3DD-_JTW"
      }
    },
    {
      "cell_type": "code",
      "source": [
        "laptop = [\"dell\",\"hp\",\"asus\",\"acer\",\"gigabyte\"]\n",
        "print(laptop)\n",
        "laptop.insert(4, \"rog\")\n",
        "print(laptop)\n",
        "laptop.remove(\"gigabyte\")\n",
        "print(laptop)\n",
        "laptop.sort()\n",
        "print(laptop)"
      ],
      "metadata": {
        "colab": {
          "base_uri": "https://localhost:8080/"
        },
        "id": "H6fYmkjc_M_I",
        "outputId": "7b74958d-41eb-4188-8599-c8f7ee7f9800"
      },
      "execution_count": null,
      "outputs": [
        {
          "output_type": "stream",
          "name": "stdout",
          "text": [
            "['dell', 'hp', 'asus', 'acer', 'gigabyte']\n",
            "['dell', 'hp', 'asus', 'acer', 'rog', 'gigabyte']\n",
            "['dell', 'hp', 'asus', 'acer', 'rog']\n",
            "['acer', 'asus', 'dell', 'hp', 'rog']\n"
          ]
        }
      ]
    },
    {
      "cell_type": "markdown",
      "source": [
        "# **2.6 : Create a dictionary about yourself with at least 4 key-value pairs.**"
      ],
      "metadata": {
        "id": "GWK5hdWl-vLV"
      }
    },
    {
      "cell_type": "code",
      "source": [
        "shakhawat = {\n",
        "    \"last\": \"Hossain\",\n",
        "    \"age\": 30,\n",
        "    \"profession\": \"Engineer\",\n",
        "    \"subject\" : [\"Data Science\",\"Machine Learning\",\"Cloud Computing\"]}\n",
        "print(shakhawat[\"last\"])\n",
        "print(shakhawat[\"subject\"][1])"
      ],
      "metadata": {
        "colab": {
          "base_uri": "https://localhost:8080/"
        },
        "id": "91MVmf5S-NU2",
        "outputId": "2bfa2d36-5d1f-4d01-8cbb-2a018bacfd63"
      },
      "execution_count": 13,
      "outputs": [
        {
          "output_type": "stream",
          "name": "stdout",
          "text": [
            "Hossain\n",
            "Machine Learning\n"
          ]
        }
      ]
    },
    {
      "cell_type": "markdown",
      "source": [
        "# 2.7 : Create a tuple with the latitude and longitude of a famous place in Bangladesh."
      ],
      "metadata": {
        "id": "5FyRoubYD65X"
      }
    },
    {
      "cell_type": "code",
      "source": [
        "coordinates = (23.9, 89.2)\n",
        "print(coordinates[0])"
      ],
      "metadata": {
        "colab": {
          "base_uri": "https://localhost:8080/"
        },
        "id": "6QxNL-UcEEv3",
        "outputId": "6f6b59d3-b2ad-44d8-f912-66256463f5ca"
      },
      "execution_count": 14,
      "outputs": [
        {
          "output_type": "stream",
          "name": "stdout",
          "text": [
            "23.9\n"
          ]
        }
      ]
    },
    {
      "cell_type": "markdown",
      "source": [
        "# 2.8 : Create two sets of colors and find their union and intersection."
      ],
      "metadata": {
        "id": "Xq3ddF48GieI"
      }
    },
    {
      "cell_type": "code",
      "source": [
        "color_a ={\"red\",\"black\",\"white\",\"red\"}\n",
        "print(color_a)\n",
        "color_b ={\"green\",\"blue\",\"purple\",\"red\"}\n",
        "print(color_b)\n",
        "all_color = color_a | color_b\n",
        "common_color = color_a & color_b\n",
        "print(all_color)\n",
        "print(common_color)"
      ],
      "metadata": {
        "colab": {
          "base_uri": "https://localhost:8080/"
        },
        "id": "2rN8faViHaGa",
        "outputId": "7e8c1ca7-5e6d-47ba-e988-a78bbcadbf93"
      },
      "execution_count": 22,
      "outputs": [
        {
          "output_type": "stream",
          "name": "stdout",
          "text": [
            "{'white', 'red', 'black'}\n",
            "{'red', 'blue', 'green', 'purple'}\n",
            "{'white', 'red', 'blue', 'black', 'green', 'purple'}\n",
            "{'red'}\n"
          ]
        }
      ]
    },
    {
      "cell_type": "markdown",
      "source": [
        "# 2.9 : Write a program that checks if a number is positive, negative, or zero."
      ],
      "metadata": {
        "id": "58qp-XumLRj4"
      }
    },
    {
      "cell_type": "code",
      "source": [
        "number = 2\n",
        "if number < 0:\n",
        "   num = \"Negative\"\n",
        "elif number == 0:\n",
        "   num = \"Zero\"\n",
        "elif number > 0:\n",
        "   num = \"Positive\"\n",
        "print(f\"The number is {num}\")"
      ],
      "metadata": {
        "colab": {
          "base_uri": "https://localhost:8080/"
        },
        "id": "g_lYpx6pLZKP",
        "outputId": "6b6b1310-4efd-417e-bdb4-f4372af8faf1"
      },
      "execution_count": 25,
      "outputs": [
        {
          "output_type": "stream",
          "name": "stdout",
          "text": [
            "The number is Positive\n"
          ]
        }
      ]
    },
    {
      "cell_type": "markdown",
      "source": [
        "# 2.10 : Write a program that checks eligibility for a discount (student AND under 25, OR senior over 60)."
      ],
      "metadata": {
        "id": "DpzfK3MzPq90"
      }
    },
    {
      "cell_type": "code",
      "source": [],
      "metadata": {
        "id": "POLARl9CP2TN"
      },
      "execution_count": null,
      "outputs": []
    }
  ]
}